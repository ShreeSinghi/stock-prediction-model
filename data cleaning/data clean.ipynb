{
 "cells": [
  {
   "cell_type": "code",
   "execution_count": 1,
   "id": "459ff8d4-0ca9-440c-a652-dc96752e3123",
   "metadata": {},
   "outputs": [],
   "source": [
    "import os\n",
    "import warnings\n",
    "warnings.simplefilter(action='ignore')\n",
    "\n",
    "import pandas as pd\n",
    "from glob import glob"
   ]
  },
  {
   "cell_type": "code",
   "execution_count": 2,
   "id": "919e7be3-61b3-4843-a959-4a74cfbf9fef",
   "metadata": {},
   "outputs": [],
   "source": [
    "files = [y for x in os.walk('C:\\\\Users\\\\LENOVO\\\\Downloads\\\\data') for y in glob(os.path.join(x[0], '*.txt'))]"
   ]
  },
  {
   "cell_type": "code",
   "execution_count": 3,
   "id": "7e3147ce-cd5f-4f38-aa9e-2ee3821c4a27",
   "metadata": {},
   "outputs": [],
   "source": [
    "allowed = ['NIFTY', 'NIFTY_F1', 'BANKNIFTY', 'BANKNIFTY_F1']\n",
    "files = list(filter(lambda x: x[:-4].split('\\\\')[-1] in allowed, files))\n"
   ]
  },
  {
   "cell_type": "code",
   "execution_count": 4,
   "id": "27ef61ba-c17e-4291-9798-43a3655808eb",
   "metadata": {},
   "outputs": [],
   "source": [
    "times = ['09:01', '09:02', '09:03', '09:04', '09:05', '09:06', '09:07', '09:08', '09:09', '09:10', '09:11', '09:12', '09:13', '09:14', '09:15', '09:16', '09:17', '09:18', '09:19', '09:20', '09:21', '09:22', '09:23', '09:24', '09:25', '09:26', '09:27', '09:28', '09:29', '09:30', '09:31', '09:32', '09:33', '09:34', '09:35', '09:36', '09:37', '09:38', '09:39', '09:40', '09:41', '09:42', '09:43', '09:44', '09:45', '09:46', '09:47', '09:48', '09:49', '09:50', '09:51', '09:52', '09:53', '09:54', '09:55', '09:56', '09:57', '09:58', '09:59', '10:00', '10:01', '10:02', '10:03', '10:04', '10:05', '10:06', '10:07', '10:08', '10:09', '10:10', '10:11', '10:12', '10:13', '10:14', '10:15', '10:16', '10:17', '10:18', '10:19', '10:20', '10:21', '10:22', '10:23', '10:24', '10:25', '10:26', '10:27', '10:28', '10:29', '10:30', '10:31', '10:32', '10:33', '10:34', '10:35', '10:36', '10:37', '10:38', '10:39', '10:40', '10:41', '10:42', '10:43', '10:44', '10:45', '10:46', '10:47', '10:48', '10:49', '10:50', '10:51', '10:52', '10:53', '10:54', '10:55', '10:56', '10:57', '10:58', '10:59', '11:00', '11:01', '11:02', '11:03', '11:04', '11:05', '11:06', '11:07', '11:08', '11:09', '11:10', '11:11', '11:12', '11:13', '11:14', '11:15', '11:16', '11:17', '11:18', '11:19', '11:20', '11:21', '11:22', '11:23', '11:24', '11:25', '11:26', '11:27', '11:28', '11:29', '11:30', '11:31', '11:32', '11:33', '11:34', '11:35', '11:36', '11:37', '11:38', '11:39', '11:40', '11:41', '11:42', '11:43', '11:44', '11:45', '11:46', '11:47', '11:48', '11:49', '11:50', '11:51', '11:52', '11:53', '11:54', '11:55', '11:56', '11:57', '11:58', '11:59', '12:00', '12:01', '12:02', '12:03', '12:04', '12:05', '12:06', '12:07', '12:08', '12:09', '12:10', '12:11', '12:12', '12:13', '12:14', '12:15', '12:16', '12:17', '12:18', '12:19', '12:20', '12:21', '12:22', '12:23', '12:24', '12:25', '12:26', '12:27', '12:28', '12:29', '12:30', '12:31', '12:32', '12:33', '12:34', '12:35', '12:36', '12:37', '12:38', '12:39', '12:40', '12:41', '12:42', '12:43', '12:44', '12:45', '12:46', '12:47', '12:48', '12:49', '12:50', '12:51', '12:52', '12:53', '12:54', '12:55', '12:56', '12:57', '12:58', '12:59', '13:00', '13:01', '13:02', '13:03', '13:04', '13:05', '13:06', '13:07', '13:08', '13:09', '13:10', '13:11', '13:12', '13:13', '13:14', '13:15', '13:16', '13:17', '13:18', '13:19', '13:20', '13:21', '13:22', '13:23', '13:24', '13:25', '13:26', '13:27', '13:28', '13:29', '13:30', '13:31', '13:32', '13:33', '13:34', '13:35', '13:36', '13:37', '13:38', '13:39', '13:40', '13:41', '13:42', '13:43', '13:44', '13:45', '13:46', '13:47', '13:48', '13:49', '13:50', '13:51', '13:52', '13:53', '13:54', '13:55', '13:56', '13:57', '13:58', '13:59', '14:00', '14:01', '14:02', '14:03', '14:04', '14:05', '14:06', '14:07', '14:08', '14:09', '14:10', '14:11', '14:12', '14:13', '14:14', '14:15', '14:16', '14:17', '14:18', '14:19', '14:20', '14:21', '14:22', '14:23', '14:24', '14:25', '14:26', '14:27', '14:28', '14:29', '14:30', '14:31', '14:32', '14:33', '14:34', '14:35', '14:36', '14:37', '14:38', '14:39', '14:40', '14:41', '14:42', '14:43', '14:44', '14:45', '14:46', '14:47', '14:48', '14:49', '14:50', '14:51', '14:52', '14:53', '14:54', '14:55', '14:56', '14:57', '14:58', '14:59', '15:00', '15:01', '15:02', '15:03', '15:04', '15:05', '15:06', '15:07', '15:08', '15:09', '15:10', '15:11', '15:12', '15:13', '15:14', '15:15', '15:16', '15:17', '15:18', '15:19', '15:20', '15:21', '15:22', '15:23', '15:24', '15:25', '15:26', '15:27', '15:28', '15:29', '15:30']\n",
    "\n",
    "def clean(fname, savename):\n",
    "    print(fname) \n",
    "    with open(fname, 'r') as f:\n",
    "        x = f.readline().count(',')\n",
    "        \n",
    "    df = pd.read_csv(fname, header=None, names=['stock', 'date', 'time', 'o','h','l','c'] + [f'foo{i}' for i in range(x-6)])\n",
    "    for i in range(x-6):\n",
    "        df = df.drop(f'foo{i}', axis=1)\n",
    "        \n",
    "    stockname = df.iloc[0].stock\n",
    "    df = pd.concat({stockname: df}, names=['stock'])\n",
    "    df.drop('stock', axis=1, inplace=True)\n",
    "    \n",
    "    df['date'] = df['date'].apply(lambda x: f'{str(x)[:4]}-{str(x)[4:6]}-{str(x)[6:]}')\n",
    "    dates = list(set(df['date']))\n",
    "    dates.sort()\n",
    "    \n",
    "    index = pd.MultiIndex.from_tuples(list(zip(df['date'], df['time'])), names=[\"date\", \"time\"])\n",
    "    df = df.drop('date',axis=1).drop('time',axis=1).set_index(index)\n",
    "    df = df[~df.index.duplicated(keep='last')]\n",
    "    \n",
    "    for date in dates:\n",
    "        ftime = df.loc[date].index[0]\n",
    "        try:\n",
    "            find  = times.index(ftime)\n",
    "        except ValueError as e:\n",
    "            print(e, date)\n",
    "            df.drop(date, level='date')\n",
    "            continue\n",
    "        \n",
    "        \"\"\"\n",
    "        print(\"#####################\")\n",
    "        print(date, ftime, fname)\n",
    "        print(df.loc[(date,ftime)])\n",
    "        print(\"#####################\")\n",
    "        \"\"\"\n",
    "        \n",
    "        \n",
    "        val = float(df.loc[(date,ftime)]['o'])\n",
    "    \n",
    "        for i in range(find):\n",
    "            df.loc[(date, times[i]), :] = val\n",
    "        \n",
    "        for i in range(find, len(times)):\n",
    "            try:\n",
    "                val = float(df.loc[(date, times[i]), :]['c'])\n",
    "            except KeyError:\n",
    "                df.loc[(date, times[i]),:] = val\n",
    "    \n",
    "    df.sort_index(inplace=True)\n",
    "    \n",
    "    for date in dates:\n",
    "        lent  = len(df.loc[date])\n",
    "        if lent>390:\n",
    "            df.drop(zip([date]*(lent-390), df.loc[date].index[:-390]), inplace=True)\n",
    "    df.to_pickle(f\"{stockname}{savename}.pkl\")"
   ]
  },
  {
   "cell_type": "code",
   "execution_count": null,
   "id": "bce815cc-7c04-46f5-96e6-1f630cd39472",
   "metadata": {},
   "outputs": [
    {
     "name": "stdout",
     "output_type": "stream",
     "text": [
      "C:\\Users\\LENOVO\\Downloads\\data\\2015\\AUG\\BANKNIFTY_F1.txt\n"
     ]
    }
   ],
   "source": [
    "for j, file in enumerate(files):\n",
    "    clean(file, j) "
   ]
  },
  {
   "cell_type": "code",
   "execution_count": 108,
   "id": "7c928c78-cc3a-455a-b5f7-d366aac7cea8",
   "metadata": {},
   "outputs": [],
   "source": [
    "filespkl = list(filter(lambda x: x.endswith('.pkl'), os.listdir()))\n",
    "filespkl.sort()\n",
    "for pklfile, file in zip(filespkl, files):\n",
    "    if \"-I\" in pklfile:\n",
    "        os.rename(pklfile, pklfile.replace(\"-I\", \"_F1\"))"
   ]
  },
  {
   "cell_type": "code",
   "execution_count": 109,
   "id": "2ac3dc9d-ffbc-465a-a553-9f2a77d3a582",
   "metadata": {},
   "outputs": [],
   "source": [
    "def fixedname(name):\n",
    "    if \"_F1\" in name:\n",
    "        return name.replace(\"_F1\", \"F_\")\n",
    "    else:\n",
    "        return name.replace(\"NIFTY\", \"NIFTY_\")\n",
    "    \n",
    "for pklfile in filespkl:\n",
    "    os.rename(pklfile, fixedname(pklfile))"
   ]
  },
  {
   "cell_type": "code",
   "execution_count": 21,
   "id": "61636f30-dd4b-47bb-ac56-fb29100efd8f",
   "metadata": {},
   "outputs": [],
   "source": [
    "filespkl = list(filter(lambda x: x.endswith('.pkl'), os.listdir()))\n",
    "for pklfile in filespkl:\n",
    "    df = pd.read_pickle(pklfile)\n",
    "    stockname = pklfile.split('_')[0]\n",
    "    if 'stock' not in df.index.names:\n",
    "        df = pd.concat({stockname: df}, names=['stock'])\n",
    "    \n",
    "    if len(df)%390:\n",
    "        print(pklfile)\n",
    "        days = list(set(df.index.get_level_values(0)))\n",
    "        for day in days:\n",
    "            if len(df.loc[day]) != 390:\n",
    "                print(len(df.loc[day]), day)\n",
    "                df.drop(day, level='date', inplace=True)\n",
    "    df.to_pickle(pklfile)\n",
    "        "
   ]
  },
  {
   "cell_type": "code",
   "execution_count": 24,
   "id": "f7a12ac9-7058-44a3-a842-887436124bfe",
   "metadata": {},
   "outputs": [],
   "source": [
    "def rename(x):\n",
    "    if x=='NIFTY':\n",
    "        return 'nifty'\n",
    "    if x=='BANKNIFTY':\n",
    "        return 'bank'\n",
    "    if x=='BANKNIFTYF':\n",
    "        return 'bankf1'\n",
    "    if x=='NIFTYF':\n",
    "        return 'niftyf1'\n",
    "    else:\n",
    "        raise Exception"
   ]
  },
  {
   "cell_type": "code",
   "execution_count": 68,
   "id": "972ef5b3-1979-44d7-9f9f-0b71e27d2547",
   "metadata": {},
   "outputs": [
    {
     "name": "stdout",
     "output_type": "stream",
     "text": [
      "{'bank', 'bankf1', 'nifty', 'niftyf1'}\n"
     ]
    }
   ],
   "source": [
    "filespkl = list(filter(lambda x: x.endswith('.pkl'), os.listdir()))\n",
    "filespkl.remove('main.pkl')\n",
    "main = pd.read_pickle('main.pkl')\n",
    "print(set(main.index.get_level_values(0)))"
   ]
  },
  {
   "cell_type": "code",
   "execution_count": 34,
   "id": "eba57d80-d03b-4a67-8c19-3b20591e7cd1",
   "metadata": {},
   "outputs": [],
   "source": [
    "for pklfile in filespkl:\n",
    "    df = pd.read_pickle(pklfile)\n",
    "    stockname = df.index[0][0]\n",
    "    df.reset_index(level=0, drop=True, inplace=True)\n",
    "    df = pd.concat({rename(stockname): df}, names=['stock'])\n",
    "    df.to_pickle(pklfile)\n"
   ]
  },
  {
   "cell_type": "code",
   "execution_count": 69,
   "id": "7737ab8e-44a7-43b7-96b4-8cf49dafd9d7",
   "metadata": {},
   "outputs": [],
   "source": [
    "dfs = [pd.read_pickle(pklfile) for pklfile in filespkl]"
   ]
  },
  {
   "cell_type": "code",
   "execution_count": 70,
   "id": "af171a83-f1dc-430f-a1a3-c2102fdee9bf",
   "metadata": {},
   "outputs": [
    {
     "data": {
      "text/html": [
       "<div>\n",
       "<style scoped>\n",
       "    .dataframe tbody tr th:only-of-type {\n",
       "        vertical-align: middle;\n",
       "    }\n",
       "\n",
       "    .dataframe tbody tr th {\n",
       "        vertical-align: top;\n",
       "    }\n",
       "\n",
       "    .dataframe thead th {\n",
       "        text-align: right;\n",
       "    }\n",
       "</style>\n",
       "<table border=\"1\" class=\"dataframe\">\n",
       "  <thead>\n",
       "    <tr style=\"text-align: right;\">\n",
       "      <th></th>\n",
       "      <th></th>\n",
       "      <th></th>\n",
       "      <th>o</th>\n",
       "      <th>h</th>\n",
       "      <th>l</th>\n",
       "      <th>c</th>\n",
       "    </tr>\n",
       "    <tr>\n",
       "      <th>stock</th>\n",
       "      <th>date</th>\n",
       "      <th>time</th>\n",
       "      <th></th>\n",
       "      <th></th>\n",
       "      <th></th>\n",
       "      <th></th>\n",
       "    </tr>\n",
       "  </thead>\n",
       "  <tbody>\n",
       "    <tr>\n",
       "      <th rowspan=\"5\" valign=\"top\">bankf1</th>\n",
       "      <th rowspan=\"5\" valign=\"top\">2009-07-17</th>\n",
       "      <th>09:01</th>\n",
       "      <td>6960.00</td>\n",
       "      <td>6960.00</td>\n",
       "      <td>6960.00</td>\n",
       "      <td>6960.00</td>\n",
       "    </tr>\n",
       "    <tr>\n",
       "      <th>09:02</th>\n",
       "      <td>6960.00</td>\n",
       "      <td>6960.00</td>\n",
       "      <td>6960.00</td>\n",
       "      <td>6960.00</td>\n",
       "    </tr>\n",
       "    <tr>\n",
       "      <th>09:03</th>\n",
       "      <td>6960.00</td>\n",
       "      <td>6960.00</td>\n",
       "      <td>6960.00</td>\n",
       "      <td>6960.00</td>\n",
       "    </tr>\n",
       "    <tr>\n",
       "      <th>09:04</th>\n",
       "      <td>6960.00</td>\n",
       "      <td>6960.00</td>\n",
       "      <td>6960.00</td>\n",
       "      <td>6960.00</td>\n",
       "    </tr>\n",
       "    <tr>\n",
       "      <th>09:05</th>\n",
       "      <td>6960.00</td>\n",
       "      <td>6960.00</td>\n",
       "      <td>6960.00</td>\n",
       "      <td>6960.00</td>\n",
       "    </tr>\n",
       "    <tr>\n",
       "      <th>...</th>\n",
       "      <th>...</th>\n",
       "      <th>...</th>\n",
       "      <td>...</td>\n",
       "      <td>...</td>\n",
       "      <td>...</td>\n",
       "      <td>...</td>\n",
       "    </tr>\n",
       "    <tr>\n",
       "      <th rowspan=\"5\" valign=\"top\">nifty</th>\n",
       "      <th rowspan=\"5\" valign=\"top\">2014-05-30</th>\n",
       "      <th>15:26</th>\n",
       "      <td>7233.25</td>\n",
       "      <td>7233.25</td>\n",
       "      <td>7226.50</td>\n",
       "      <td>7226.90</td>\n",
       "    </tr>\n",
       "    <tr>\n",
       "      <th>15:27</th>\n",
       "      <td>7226.65</td>\n",
       "      <td>7227.65</td>\n",
       "      <td>7222.25</td>\n",
       "      <td>7222.75</td>\n",
       "    </tr>\n",
       "    <tr>\n",
       "      <th>15:28</th>\n",
       "      <td>7222.20</td>\n",
       "      <td>7225.15</td>\n",
       "      <td>7220.20</td>\n",
       "      <td>7222.80</td>\n",
       "    </tr>\n",
       "    <tr>\n",
       "      <th>15:29</th>\n",
       "      <td>7222.90</td>\n",
       "      <td>7226.95</td>\n",
       "      <td>7217.15</td>\n",
       "      <td>7224.85</td>\n",
       "    </tr>\n",
       "    <tr>\n",
       "      <th>15:30</th>\n",
       "      <td>7221.90</td>\n",
       "      <td>7225.80</td>\n",
       "      <td>7220.50</td>\n",
       "      <td>7223.45</td>\n",
       "    </tr>\n",
       "  </tbody>\n",
       "</table>\n",
       "<p>5532930 rows × 4 columns</p>\n",
       "</div>"
      ],
      "text/plain": [
       "                               o        h        l        c\n",
       "stock  date       time                                     \n",
       "bankf1 2009-07-17 09:01  6960.00  6960.00  6960.00  6960.00\n",
       "                  09:02  6960.00  6960.00  6960.00  6960.00\n",
       "                  09:03  6960.00  6960.00  6960.00  6960.00\n",
       "                  09:04  6960.00  6960.00  6960.00  6960.00\n",
       "                  09:05  6960.00  6960.00  6960.00  6960.00\n",
       "...                          ...      ...      ...      ...\n",
       "nifty  2014-05-30 15:26  7233.25  7233.25  7226.50  7226.90\n",
       "                  15:27  7226.65  7227.65  7222.25  7222.75\n",
       "                  15:28  7222.20  7225.15  7220.20  7222.80\n",
       "                  15:29  7222.90  7226.95  7217.15  7224.85\n",
       "                  15:30  7221.90  7225.80  7220.50  7223.45\n",
       "\n",
       "[5532930 rows x 4 columns]"
      ]
     },
     "execution_count": 70,
     "metadata": {},
     "output_type": "execute_result"
    }
   ],
   "source": [
    "combined = pd.concat(dfs)"
   ]
  },
  {
   "cell_type": "code",
   "execution_count": 85,
   "id": "b5cfad44-d2ac-4f76-ad02-51cd09b4962b",
   "metadata": {},
   "outputs": [],
   "source": [
    "ind = combined.index\n",
    "temp = times*(len(combined)//390)\n",
    "combined['time'] = temp\n",
    "combined = combined.set_index('time', append=True).droplevel(2)"
   ]
  },
  {
   "cell_type": "code",
   "execution_count": 86,
   "id": "53076c15-7038-4aaf-8618-04178712a3dc",
   "metadata": {},
   "outputs": [],
   "source": [
    "main = pd.concat([main, combined])\n",
    "main = main[~main.index.duplicated(keep='last')]"
   ]
  },
  {
   "cell_type": "code",
   "execution_count": 88,
   "id": "9c854ce1-00a7-40a3-81a5-9f22231fda1a",
   "metadata": {},
   "outputs": [],
   "source": [
    "main.to_pickle('newmain.pkl')\n"
   ]
  },
  {
   "cell_type": "code",
   "execution_count": null,
   "id": "a6dc29d2-19a3-4618-ac7c-23192d84bb59",
   "metadata": {},
   "outputs": [],
   "source": []
  }
 ],
 "metadata": {
  "kernelspec": {
   "display_name": "Python 3 (ipykernel)",
   "language": "python",
   "name": "python3"
  },
  "language_info": {
   "codemirror_mode": {
    "name": "ipython",
    "version": 3
   },
   "file_extension": ".py",
   "mimetype": "text/x-python",
   "name": "python",
   "nbconvert_exporter": "python",
   "pygments_lexer": "ipython3",
   "version": "3.9.0"
  }
 },
 "nbformat": 4,
 "nbformat_minor": 5
}
